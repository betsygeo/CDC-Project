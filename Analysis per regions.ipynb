{
 "cells": [
  {
   "cell_type": "code",
   "execution_count": 2,
   "id": "73236052-2abe-46c3-a977-7391fd60b293",
   "metadata": {
    "tags": []
   },
   "outputs": [],
   "source": [
    "import numpy as np\n",
    "from datascience import *\n",
    "import pandas as pd\n",
    "\n",
    "# These lines do some fancy plotting magic.\n",
    "import matplotlib\n",
    "%matplotlib inline\n",
    "import matplotlib.pyplot as plt\n",
    "plt.style.use('fivethirtyeight')\n",
    "import warnings\n",
    "warnings.simplefilter('ignore', FutureWarning)"
   ]
  },
  {
   "cell_type": "code",
   "execution_count": 3,
   "id": "22c52957-476d-4c47-8b68-96bcf465d044",
   "metadata": {
    "tags": []
   },
   "outputs": [
    {
     "name": "stderr",
     "output_type": "stream",
     "text": [
      "C:\\Users\\Betsy I George\\anaconda3\\Lib\\site-packages\\datascience\\tables.py:163: DtypeWarning: Columns (0,1,2,3,8,9,10,11,12,13,15) have mixed types. Specify dtype option on import or set low_memory=False.\n",
      "  df = pandas.read_csv(filepath_or_buffer, *args, **vargs)\n"
     ]
    },
    {
     "data": {
      "text/html": [
       "<table border=\"1\" class=\"dataframe\">\n",
       "    <thead>\n",
       "        <tr>\n",
       "            <th>Game</th> <th>Console</th> <th>Publisher</th> <th>Developer</th> <th>VGChartz Score</th> <th>Critic Score</th> <th>User Score</th> <th>Total Shipped</th> <th>Total Sales</th> <th>NA Sales</th> <th>PAL Sales</th> <th>Japan Sales</th> <th>Other Sales</th> <th>Release Date</th> <th>Year</th> <th>Last Update</th>\n",
       "        </tr>\n",
       "    </thead>\n",
       "    <tbody>\n",
       "        <tr>\n",
       "            <td>Higurashi no Naku Koro ni Matsuri              </td> <td>PS2_b  </td> <td>Alchemist      </td> <td>07th Expansion           </td> <td>nan           </td> <td>nan         </td> <td>nan       </td> <td>nan          </td> <td>0.11m      </td> <td>nan     </td> <td>nan      </td> <td>0.11m      </td> <td>nan        </td> <td>22nd Feb 07 </td> <td>7   </td> <td>nan        </td>\n",
       "        </tr>\n",
       "        <tr>\n",
       "            <td>Higurashi no Naku Koro ni Matsuri: Kakera Asobi</td> <td>PS2_b  </td> <td>Alchemist      </td> <td>07th Expansion           </td> <td>nan           </td> <td>nan         </td> <td>nan       </td> <td>nan          </td> <td>0.07m      </td> <td>nan     </td> <td>nan      </td> <td>0.07m      </td> <td>nan        </td> <td>20th Dec 07 </td> <td>7   </td> <td>nan        </td>\n",
       "        </tr>\n",
       "        <tr>\n",
       "            <td>School Days LxH                                </td> <td>PS2_b  </td> <td>Interchannel   </td> <td>0verflow                 </td> <td>nan           </td> <td>nan         </td> <td>nan       </td> <td>nan          </td> <td>0.02m      </td> <td>nan     </td> <td>nan      </td> <td>0.02m      </td> <td>nan        </td> <td>17th Jan 08 </td> <td>8   </td> <td>nan        </td>\n",
       "        </tr>\n",
       "        <tr>\n",
       "            <td>Island Days                                    </td> <td>3DS_b  </td> <td>Stack          </td> <td>0verflow                 </td> <td>nan           </td> <td>nan         </td> <td>nan       </td> <td>nan          </td> <td>0.00m      </td> <td>nan     </td> <td>nan      </td> <td>0.00m      </td> <td>nan        </td> <td>03rd Jul 14 </td> <td>14  </td> <td>01st May 19</td>\n",
       "        </tr>\n",
       "        <tr>\n",
       "            <td>Ready 2 Rumble Revolution                      </td> <td>Wii_b  </td> <td>Atari          </td> <td>10tacle Studios AG       </td> <td>nan           </td> <td>3.1         </td> <td>nan       </td> <td>nan          </td> <td>0.16m      </td> <td>0.15m   </td> <td>0.00m    </td> <td>nan        </td> <td>0.01m      </td> <td>17th Mar 09 </td> <td>9   </td> <td>nan        </td>\n",
       "        </tr>\n",
       "        <tr>\n",
       "            <td>Boulder Dash: Rocks!                           </td> <td>DS_b   </td> <td>10TACLE Studios</td> <td>10tacle Studios AG       </td> <td>nan           </td> <td>nan         </td> <td>nan       </td> <td>nan          </td> <td>0.03m      </td> <td>nan     </td> <td>0.03m    </td> <td>nan        </td> <td>0.00m      </td> <td>23rd Nov 07 </td> <td>7   </td> <td>nan        </td>\n",
       "        </tr>\n",
       "        <tr>\n",
       "            <td>Men of War: Red Tide                           </td> <td>PC_b   </td> <td>Aspyr          </td> <td>1C Company               </td> <td>nan           </td> <td>nan         </td> <td>nan       </td> <td>nan          </td> <td>0.00m      </td> <td>nan     </td> <td>0.00m    </td> <td>nan        </td> <td>0.00m      </td> <td>02nd Nov 09 </td> <td>9   </td> <td>29th Mar 19</td>\n",
       "        </tr>\n",
       "        <tr>\n",
       "            <td>Perimeter                                      </td> <td>PC_b   </td> <td>Codemasters    </td> <td>1C Company               </td> <td>nan           </td> <td>nan         </td> <td>nan       </td> <td>nan          </td> <td>0.00m      </td> <td>nan     </td> <td>0.00m    </td> <td>nan        </td> <td>0.00m      </td> <td>30th Jun 04 </td> <td>4   </td> <td>nan        </td>\n",
       "        </tr>\n",
       "        <tr>\n",
       "            <td>4x4 Hummer                                     </td> <td>PC_b   </td> <td>Aspyr          </td> <td>1C Company / Avalon Style</td> <td>nan           </td> <td>nan         </td> <td>nan       </td> <td>nan          </td> <td>0.00m      </td> <td>nan     </td> <td>0.00m    </td> <td>nan        </td> <td>0.00m      </td> <td>15th Jun 09 </td> <td>9   </td> <td>nan        </td>\n",
       "        </tr>\n",
       "        <tr>\n",
       "            <td>IL-2 Sturmovik                                 </td> <td>PC_b   </td> <td>Ubisoft        </td> <td>1C Maddox Games          </td> <td>nan           </td> <td>nan         </td> <td>nan       </td> <td>nan          </td> <td>0.01m      </td> <td>nan     </td> <td>0.01m    </td> <td>nan        </td> <td>0.00m      </td> <td>18th Nov 01 </td> <td>1   </td> <td>nan        </td>\n",
       "        </tr>\n",
       "    </tbody>\n",
       "</table>\n",
       "<p>... (1048565 rows omitted)</p>"
      ],
      "text/plain": [
       "Game                                            | Console | Publisher       | Developer                 | VGChartz Score | Critic Score | User Score | Total Shipped | Total Sales | NA Sales | PAL Sales | Japan Sales | Other Sales | Release Date | Year | Last Update\n",
       "Higurashi no Naku Koro ni Matsuri               | PS2_b   | Alchemist       | 07th Expansion            | nan            | nan          | nan        | nan           | 0.11m       | nan      | nan       | 0.11m       | nan         | 22nd Feb 07  | 7    | nan\n",
       "Higurashi no Naku Koro ni Matsuri: Kakera Asobi | PS2_b   | Alchemist       | 07th Expansion            | nan            | nan          | nan        | nan           | 0.07m       | nan      | nan       | 0.07m       | nan         | 20th Dec 07  | 7    | nan\n",
       "School Days LxH                                 | PS2_b   | Interchannel    | 0verflow                  | nan            | nan          | nan        | nan           | 0.02m       | nan      | nan       | 0.02m       | nan         | 17th Jan 08  | 8    | nan\n",
       "Island Days                                     | 3DS_b   | Stack           | 0verflow                  | nan            | nan          | nan        | nan           | 0.00m       | nan      | nan       | 0.00m       | nan         | 03rd Jul 14  | 14   | 01st May 19\n",
       "Ready 2 Rumble Revolution                       | Wii_b   | Atari           | 10tacle Studios AG        | nan            | 3.1          | nan        | nan           | 0.16m       | 0.15m    | 0.00m     | nan         | 0.01m       | 17th Mar 09  | 9    | nan\n",
       "Boulder Dash: Rocks!                            | DS_b    | 10TACLE Studios | 10tacle Studios AG        | nan            | nan          | nan        | nan           | 0.03m       | nan      | 0.03m     | nan         | 0.00m       | 23rd Nov 07  | 7    | nan\n",
       "Men of War: Red Tide                            | PC_b    | Aspyr           | 1C Company                | nan            | nan          | nan        | nan           | 0.00m       | nan      | 0.00m     | nan         | 0.00m       | 02nd Nov 09  | 9    | 29th Mar 19\n",
       "Perimeter                                       | PC_b    | Codemasters     | 1C Company                | nan            | nan          | nan        | nan           | 0.00m       | nan      | 0.00m     | nan         | 0.00m       | 30th Jun 04  | 4    | nan\n",
       "4x4 Hummer                                      | PC_b    | Aspyr           | 1C Company / Avalon Style | nan            | nan          | nan        | nan           | 0.00m       | nan      | 0.00m     | nan         | 0.00m       | 15th Jun 09  | 9    | nan\n",
       "IL-2 Sturmovik                                  | PC_b    | Ubisoft         | 1C Maddox Games           | nan            | nan          | nan        | nan           | 0.01m       | nan      | 0.01m     | nan         | 0.00m       | 18th Nov 01  | 1    | nan\n",
       "... (1048565 rows omitted)"
      ]
     },
     "execution_count": 3,
     "metadata": {},
     "output_type": "execute_result"
    }
   ],
   "source": [
    "sales = Table.read_table('businesslwithyear.csv')\n",
    "sales"
   ]
  },
  {
   "cell_type": "code",
   "execution_count": 18,
   "id": "f8f78a30-91a7-4fb3-9259-a40bec9c8d81",
   "metadata": {
    "tags": []
   },
   "outputs": [
    {
     "data": {
      "text/html": [
       "<table border=\"1\" class=\"dataframe\">\n",
       "    <thead>\n",
       "        <tr>\n",
       "            <th>Console</th> <th>Publisher</th> <th>Developer</th> <th>Japan Sales</th>\n",
       "        </tr>\n",
       "    </thead>\n",
       "    <tbody>\n",
       "        <tr>\n",
       "            <td>PS2_b  </td> <td>Alchemist         </td> <td>07th Expansion          </td> <td>0.11m      </td>\n",
       "        </tr>\n",
       "        <tr>\n",
       "            <td>PS2_b  </td> <td>Alchemist         </td> <td>07th Expansion          </td> <td>0.07m      </td>\n",
       "        </tr>\n",
       "        <tr>\n",
       "            <td>PS2_b  </td> <td>Interchannel      </td> <td>0verflow                </td> <td>0.02m      </td>\n",
       "        </tr>\n",
       "        <tr>\n",
       "            <td>3DS_b  </td> <td>Stack             </td> <td>0verflow                </td> <td>0.00m      </td>\n",
       "        </tr>\n",
       "        <tr>\n",
       "            <td>X360_b </td> <td>2K Games          </td> <td>2K Australia / 2K Boston</td> <td>0.05m      </td>\n",
       "        </tr>\n",
       "        <tr>\n",
       "            <td>DS_b   </td> <td>3 O'Clock         </td> <td>3 O'Clock               </td> <td>0.03m      </td>\n",
       "        </tr>\n",
       "        <tr>\n",
       "            <td>X360_b </td> <td>Microsoft Studios </td> <td>343 Industries          </td> <td>0.04m      </td>\n",
       "        </tr>\n",
       "        <tr>\n",
       "            <td>XOne_b </td> <td>Microsoft Studios </td> <td>343 Industries          </td> <td>0.03m      </td>\n",
       "        </tr>\n",
       "        <tr>\n",
       "            <td>X360_b </td> <td>Microsoft Studios </td> <td>343 Industries          </td> <td>0.04m      </td>\n",
       "        </tr>\n",
       "        <tr>\n",
       "            <td>PS3_b  </td> <td>Bethesda Softworks</td> <td>4J Studios              </td> <td>0.14m      </td>\n",
       "        </tr>\n",
       "    </tbody>\n",
       "</table>\n",
       "<p>... (4719 rows omitted)</p>"
      ],
      "text/plain": [
       "Console | Publisher          | Developer                | Japan Sales\n",
       "PS2_b   | Alchemist          | 07th Expansion           | 0.11m\n",
       "PS2_b   | Alchemist          | 07th Expansion           | 0.07m\n",
       "PS2_b   | Interchannel       | 0verflow                 | 0.02m\n",
       "3DS_b   | Stack              | 0verflow                 | 0.00m\n",
       "X360_b  | 2K Games           | 2K Australia / 2K Boston | 0.05m\n",
       "DS_b    | 3 O'Clock          | 3 O'Clock                | 0.03m\n",
       "X360_b  | Microsoft Studios  | 343 Industries           | 0.04m\n",
       "XOne_b  | Microsoft Studios  | 343 Industries           | 0.03m\n",
       "X360_b  | Microsoft Studios  | 343 Industries           | 0.04m\n",
       "PS3_b   | Bethesda Softworks | 4J Studios               | 0.14m\n",
       "... (4719 rows omitted)"
      ]
     },
     "execution_count": 18,
     "metadata": {},
     "output_type": "execute_result"
    }
   ],
   "source": [
    "Japan_sales = sales.select('Console','Publisher','Developer','Japan Sales').where('Japan Sales', are.not_equal_to('nan'))\n",
    "Japan_sales"
   ]
  },
  {
   "cell_type": "code",
   "execution_count": 19,
   "id": "9a9bf3d5-3bae-4470-88b4-ee38c1d844bb",
   "metadata": {
    "tags": []
   },
   "outputs": [
    {
     "data": {
      "text/plain": [
       "'100'"
      ]
     },
     "execution_count": 19,
     "metadata": {},
     "output_type": "execute_result"
    }
   ],
   "source": [
    "def remove_unit(string):\n",
    "    return string.replace('m','')\n",
    "remove_unit('100m')"
   ]
  },
  {
   "cell_type": "code",
   "execution_count": 20,
   "id": "5856b784-aa9b-4a05-a029-39bb05cc42fe",
   "metadata": {
    "tags": []
   },
   "outputs": [
    {
     "data": {
      "text/html": [
       "<table border=\"1\" class=\"dataframe\">\n",
       "    <thead>\n",
       "        <tr>\n",
       "            <th>Console</th> <th>Publisher</th> <th>Developer</th> <th>Japan Sales</th> <th>JapanSales</th>\n",
       "        </tr>\n",
       "    </thead>\n",
       "    <tbody>\n",
       "        <tr>\n",
       "            <td>PS2_b  </td> <td>Alchemist         </td> <td>07th Expansion          </td> <td>0.11m      </td> <td>0.11      </td>\n",
       "        </tr>\n",
       "        <tr>\n",
       "            <td>PS2_b  </td> <td>Alchemist         </td> <td>07th Expansion          </td> <td>0.07m      </td> <td>0.07      </td>\n",
       "        </tr>\n",
       "        <tr>\n",
       "            <td>PS2_b  </td> <td>Interchannel      </td> <td>0verflow                </td> <td>0.02m      </td> <td>0.02      </td>\n",
       "        </tr>\n",
       "        <tr>\n",
       "            <td>3DS_b  </td> <td>Stack             </td> <td>0verflow                </td> <td>0.00m      </td> <td>0         </td>\n",
       "        </tr>\n",
       "        <tr>\n",
       "            <td>X360_b </td> <td>2K Games          </td> <td>2K Australia / 2K Boston</td> <td>0.05m      </td> <td>0.05      </td>\n",
       "        </tr>\n",
       "        <tr>\n",
       "            <td>DS_b   </td> <td>3 O'Clock         </td> <td>3 O'Clock               </td> <td>0.03m      </td> <td>0.03      </td>\n",
       "        </tr>\n",
       "        <tr>\n",
       "            <td>X360_b </td> <td>Microsoft Studios </td> <td>343 Industries          </td> <td>0.04m      </td> <td>0.04      </td>\n",
       "        </tr>\n",
       "        <tr>\n",
       "            <td>XOne_b </td> <td>Microsoft Studios </td> <td>343 Industries          </td> <td>0.03m      </td> <td>0.03      </td>\n",
       "        </tr>\n",
       "        <tr>\n",
       "            <td>X360_b </td> <td>Microsoft Studios </td> <td>343 Industries          </td> <td>0.04m      </td> <td>0.04      </td>\n",
       "        </tr>\n",
       "        <tr>\n",
       "            <td>PS3_b  </td> <td>Bethesda Softworks</td> <td>4J Studios              </td> <td>0.14m      </td> <td>0.14      </td>\n",
       "        </tr>\n",
       "    </tbody>\n",
       "</table>\n",
       "<p>... (4719 rows omitted)</p>"
      ],
      "text/plain": [
       "Console | Publisher          | Developer                | Japan Sales | JapanSales\n",
       "PS2_b   | Alchemist          | 07th Expansion           | 0.11m       | 0.11\n",
       "PS2_b   | Alchemist          | 07th Expansion           | 0.07m       | 0.07\n",
       "PS2_b   | Interchannel       | 0verflow                 | 0.02m       | 0.02\n",
       "3DS_b   | Stack              | 0verflow                 | 0.00m       | 0\n",
       "X360_b  | 2K Games           | 2K Australia / 2K Boston | 0.05m       | 0.05\n",
       "DS_b    | 3 O'Clock          | 3 O'Clock                | 0.03m       | 0.03\n",
       "X360_b  | Microsoft Studios  | 343 Industries           | 0.04m       | 0.04\n",
       "XOne_b  | Microsoft Studios  | 343 Industries           | 0.03m       | 0.03\n",
       "X360_b  | Microsoft Studios  | 343 Industries           | 0.04m       | 0.04\n",
       "PS3_b   | Bethesda Softworks | 4J Studios               | 0.14m       | 0.14\n",
       "... (4719 rows omitted)"
      ]
     },
     "execution_count": 20,
     "metadata": {},
     "output_type": "execute_result"
    }
   ],
   "source": [
    "Japan_sales = Japan_sales.with_column('JapanSales' , Japan_sales.apply(remove_unit, 'Japan Sales').astype(float))\n",
    "Japan_sales"
   ]
  },
  {
   "cell_type": "code",
   "execution_count": 21,
   "id": "30f8d3a2-769f-46b0-b7af-7a5c6edf4755",
   "metadata": {
    "tags": []
   },
   "outputs": [
    {
     "data": {
      "image/png": "[encoded data removed]",
      "text/plain": [
       "<Figure size 600x400 with 1 Axes>"
      ]
     },
     "metadata": {},
     "output_type": "display_data"
    }
   ],
   "source": [
    "Japan_sales.select('Developer','JapanSales').group('Developer',sum).sort(1,descending = True).take(np.arange(5)).barh('Developer')"
   ]
  },
  {
   "cell_type": "code",
   "execution_count": 24,
   "id": "56114fd2-6c80-4deb-9c08-8f9000dee2fd",
   "metadata": {
    "tags": []
   },
   "outputs": [
    {
     "data": {
      "text/html": [
       "<table border=\"1\" class=\"dataframe\">\n",
       "    <thead>\n",
       "        <tr>\n",
       "            <th>Console</th> <th>Publisher</th> <th>Developer</th> <th>NA Sales</th>\n",
       "        </tr>\n",
       "    </thead>\n",
       "    <tbody>\n",
       "        <tr>\n",
       "            <td>Wii_b  </td> <td>Atari                     </td> <td>10tacle Studios AG      </td> <td>0.15m   </td>\n",
       "        </tr>\n",
       "        <tr>\n",
       "            <td>PC_b   </td> <td>Paradox Interactive       </td> <td>1C:Ino-Co               </td> <td>0.04m   </td>\n",
       "        </tr>\n",
       "        <tr>\n",
       "            <td>DS_b   </td> <td>GameMill                  </td> <td>1st Playable            </td> <td>0.07m   </td>\n",
       "        </tr>\n",
       "        <tr>\n",
       "            <td>DS_b   </td> <td>Disney Interactive Studios</td> <td>1st Playable Productions</td> <td>1.87m   </td>\n",
       "        </tr>\n",
       "        <tr>\n",
       "            <td>DS_b   </td> <td>D3 Publisher              </td> <td>1st Playable Productions</td> <td>0.68m   </td>\n",
       "        </tr>\n",
       "        <tr>\n",
       "            <td>DS_b   </td> <td>Disney Interactive Studios</td> <td>1st Playable Productions</td> <td>1.12m   </td>\n",
       "        </tr>\n",
       "        <tr>\n",
       "            <td>3DS_b  </td> <td>GameMill Entertainment    </td> <td>1st Playable Productions</td> <td>0.32m   </td>\n",
       "        </tr>\n",
       "        <tr>\n",
       "            <td>DS_b   </td> <td>Disney Interactive Studios</td> <td>1st Playable Productions</td> <td>0.39m   </td>\n",
       "        </tr>\n",
       "        <tr>\n",
       "            <td>PSP_b  </td> <td>D3 Publisher              </td> <td>1st Playable Productions</td> <td>0.13m   </td>\n",
       "        </tr>\n",
       "        <tr>\n",
       "            <td>DS_b   </td> <td>Mentor Interactive        </td> <td>1st Playable Productions</td> <td>0.37m   </td>\n",
       "        </tr>\n",
       "    </tbody>\n",
       "</table>\n",
       "<p>... (6228 rows omitted)</p>"
      ],
      "text/plain": [
       "Console | Publisher                  | Developer                | NA Sales\n",
       "Wii_b   | Atari                      | 10tacle Studios AG       | 0.15m\n",
       "PC_b    | Paradox Interactive        | 1C:Ino-Co                | 0.04m\n",
       "DS_b    | GameMill                   | 1st Playable             | 0.07m\n",
       "DS_b    | Disney Interactive Studios | 1st Playable Productions | 1.87m\n",
       "DS_b    | D3 Publisher               | 1st Playable Productions | 0.68m\n",
       "DS_b    | Disney Interactive Studios | 1st Playable Productions | 1.12m\n",
       "3DS_b   | GameMill Entertainment     | 1st Playable Productions | 0.32m\n",
       "DS_b    | Disney Interactive Studios | 1st Playable Productions | 0.39m\n",
       "PSP_b   | D3 Publisher               | 1st Playable Productions | 0.13m\n",
       "DS_b    | Mentor Interactive         | 1st Playable Productions | 0.37m\n",
       "... (6228 rows omitted)"
      ]
     },
     "execution_count": 24,
     "metadata": {},
     "output_type": "execute_result"
    }
   ],
   "source": [
    "NA_sales = sales.select('Console','Publisher','Developer','NA Sales').where('NA Sales', are.not_equal_to('nan'))\n",
    "NA_sales"
   ]
  },
  {
   "cell_type": "code",
   "execution_count": 26,
   "id": "5714b1fa-1ef7-4d24-a5c6-9c0ff9c9f4ae",
   "metadata": {
    "tags": []
   },
   "outputs": [
    {
     "data": {
      "text/html": [
       "<table border=\"1\" class=\"dataframe\">\n",
       "    <thead>\n",
       "        <tr>\n",
       "            <th>Console</th> <th>Publisher</th> <th>Developer</th> <th>NA Sales</th> <th>NASales</th>\n",
       "        </tr>\n",
       "    </thead>\n",
       "    <tbody>\n",
       "        <tr>\n",
       "            <td>Wii_b  </td> <td>Atari                     </td> <td>10tacle Studios AG      </td> <td>0.15m   </td> <td>0.15   </td>\n",
       "        </tr>\n",
       "        <tr>\n",
       "            <td>PC_b   </td> <td>Paradox Interactive       </td> <td>1C:Ino-Co               </td> <td>0.04m   </td> <td>0.04   </td>\n",
       "        </tr>\n",
       "        <tr>\n",
       "            <td>DS_b   </td> <td>GameMill                  </td> <td>1st Playable            </td> <td>0.07m   </td> <td>0.07   </td>\n",
       "        </tr>\n",
       "        <tr>\n",
       "            <td>DS_b   </td> <td>Disney Interactive Studios</td> <td>1st Playable Productions</td> <td>1.87m   </td> <td>1.87   </td>\n",
       "        </tr>\n",
       "        <tr>\n",
       "            <td>DS_b   </td> <td>D3 Publisher              </td> <td>1st Playable Productions</td> <td>0.68m   </td> <td>0.68   </td>\n",
       "        </tr>\n",
       "        <tr>\n",
       "            <td>DS_b   </td> <td>Disney Interactive Studios</td> <td>1st Playable Productions</td> <td>1.12m   </td> <td>1.12   </td>\n",
       "        </tr>\n",
       "        <tr>\n",
       "            <td>3DS_b  </td> <td>GameMill Entertainment    </td> <td>1st Playable Productions</td> <td>0.32m   </td> <td>0.32   </td>\n",
       "        </tr>\n",
       "        <tr>\n",
       "            <td>DS_b   </td> <td>Disney Interactive Studios</td> <td>1st Playable Productions</td> <td>0.39m   </td> <td>0.39   </td>\n",
       "        </tr>\n",
       "        <tr>\n",
       "            <td>PSP_b  </td> <td>D3 Publisher              </td> <td>1st Playable Productions</td> <td>0.13m   </td> <td>0.13   </td>\n",
       "        </tr>\n",
       "        <tr>\n",
       "            <td>DS_b   </td> <td>Mentor Interactive        </td> <td>1st Playable Productions</td> <td>0.37m   </td> <td>0.37   </td>\n",
       "        </tr>\n",
       "    </tbody>\n",
       "</table>\n",
       "<p>... (6228 rows omitted)</p>"
      ],
      "text/plain": [
       "Console | Publisher                  | Developer                | NA Sales | NASales\n",
       "Wii_b   | Atari                      | 10tacle Studios AG       | 0.15m    | 0.15\n",
       "PC_b    | Paradox Interactive        | 1C:Ino-Co                | 0.04m    | 0.04\n",
       "DS_b    | GameMill                   | 1st Playable             | 0.07m    | 0.07\n",
       "DS_b    | Disney Interactive Studios | 1st Playable Productions | 1.87m    | 1.87\n",
       "DS_b    | D3 Publisher               | 1st Playable Productions | 0.68m    | 0.68\n",
       "DS_b    | Disney Interactive Studios | 1st Playable Productions | 1.12m    | 1.12\n",
       "3DS_b   | GameMill Entertainment     | 1st Playable Productions | 0.32m    | 0.32\n",
       "DS_b    | Disney Interactive Studios | 1st Playable Productions | 0.39m    | 0.39\n",
       "PSP_b   | D3 Publisher               | 1st Playable Productions | 0.13m    | 0.13\n",
       "DS_b    | Mentor Interactive         | 1st Playable Productions | 0.37m    | 0.37\n",
       "... (6228 rows omitted)"
      ]
     },
     "execution_count": 26,
     "metadata": {},
     "output_type": "execute_result"
    }
   ],
   "source": [
    "NA_sales = NA_sales.with_column('NASales' , NA_sales.apply(remove_unit, 'NA Sales').astype(float))\n",
    "NA_sales"
   ]
  },
  {
   "cell_type": "code",
   "execution_count": 27,
   "id": "0483d2fd-b63b-40f7-b619-ee439d0fdcf1",
   "metadata": {
    "tags": []
   },
   "outputs": [
    {
     "data": {
      "image/png": "[encoded data removed]",
      "text/plain": [
       "<Figure size 600x400 with 1 Axes>"
      ]
     },
     "metadata": {},
     "output_type": "display_data"
    }
   ],
   "source": [
    "NA_sales.select('Developer','NASales').group('Developer',sum).sort(1,descending = True).take(np.arange(5)).barh('Developer')"
   ]
  },
  {
   "cell_type": "code",
   "execution_count": 28,
   "id": "d0e46555-9129-4d65-b54b-7b1200d2e30b",
   "metadata": {
    "tags": []
   },
   "outputs": [
    {
     "data": {
      "text/html": [
       "<table border=\"1\" class=\"dataframe\">\n",
       "    <thead>\n",
       "        <tr>\n",
       "            <th>Console</th> <th>Publisher</th> <th>Developer</th> <th>PAL Sales</th>\n",
       "        </tr>\n",
       "    </thead>\n",
       "    <tbody>\n",
       "        <tr>\n",
       "            <td>Wii_b  </td> <td>Atari          </td> <td>10tacle Studios AG       </td> <td>0.00m    </td>\n",
       "        </tr>\n",
       "        <tr>\n",
       "            <td>DS_b   </td> <td>10TACLE Studios</td> <td>10tacle Studios AG       </td> <td>0.03m    </td>\n",
       "        </tr>\n",
       "        <tr>\n",
       "            <td>PC_b   </td> <td>Aspyr          </td> <td>1C Company               </td> <td>0.00m    </td>\n",
       "        </tr>\n",
       "        <tr>\n",
       "            <td>PC_b   </td> <td>Codemasters    </td> <td>1C Company               </td> <td>0.00m    </td>\n",
       "        </tr>\n",
       "        <tr>\n",
       "            <td>PC_b   </td> <td>Aspyr          </td> <td>1C Company / Avalon Style</td> <td>0.00m    </td>\n",
       "        </tr>\n",
       "        <tr>\n",
       "            <td>PC_b   </td> <td>Ubisoft        </td> <td>1C Maddox Games          </td> <td>0.01m    </td>\n",
       "        </tr>\n",
       "        <tr>\n",
       "            <td>PC_b   </td> <td>Ubisoft        </td> <td>1C: Maddox Games         </td> <td>0.05m    </td>\n",
       "        </tr>\n",
       "        <tr>\n",
       "            <td>PC_b   </td> <td>Ubisoft        </td> <td>1C: Maddox Games         </td> <td>0.04m    </td>\n",
       "        </tr>\n",
       "        <tr>\n",
       "            <td>PC_b   </td> <td>Ubisoft        </td> <td>1C: Maddox Games         </td> <td>0.02m    </td>\n",
       "        </tr>\n",
       "        <tr>\n",
       "            <td>PC_b   </td> <td>Ubisoft        </td> <td>1C: Maddox Games         </td> <td>0.00m    </td>\n",
       "        </tr>\n",
       "    </tbody>\n",
       "</table>\n",
       "<p>... (6417 rows omitted)</p>"
      ],
      "text/plain": [
       "Console | Publisher       | Developer                 | PAL Sales\n",
       "Wii_b   | Atari           | 10tacle Studios AG        | 0.00m\n",
       "DS_b    | 10TACLE Studios | 10tacle Studios AG        | 0.03m\n",
       "PC_b    | Aspyr           | 1C Company                | 0.00m\n",
       "PC_b    | Codemasters     | 1C Company                | 0.00m\n",
       "PC_b    | Aspyr           | 1C Company / Avalon Style | 0.00m\n",
       "PC_b    | Ubisoft         | 1C Maddox Games           | 0.01m\n",
       "PC_b    | Ubisoft         | 1C: Maddox Games          | 0.05m\n",
       "PC_b    | Ubisoft         | 1C: Maddox Games          | 0.04m\n",
       "PC_b    | Ubisoft         | 1C: Maddox Games          | 0.02m\n",
       "PC_b    | Ubisoft         | 1C: Maddox Games          | 0.00m\n",
       "... (6417 rows omitted)"
      ]
     },
     "execution_count": 28,
     "metadata": {},
     "output_type": "execute_result"
    }
   ],
   "source": [
    "PAL_sales = sales.select('Console','Publisher','Developer','PAL Sales').where('PAL Sales', are.not_equal_to('nan'))\n",
    "PAL_sales"
   ]
  },
  {
   "cell_type": "code",
   "execution_count": 30,
   "id": "8339f5a8-1009-4047-8f84-eb13d46ed352",
   "metadata": {
    "tags": []
   },
   "outputs": [
    {
     "data": {
      "text/html": [
       "<table border=\"1\" class=\"dataframe\">\n",
       "    <thead>\n",
       "        <tr>\n",
       "            <th>Console</th> <th>Publisher</th> <th>Developer</th> <th>PAL Sales</th> <th>PALSales</th>\n",
       "        </tr>\n",
       "    </thead>\n",
       "    <tbody>\n",
       "        <tr>\n",
       "            <td>Wii_b  </td> <td>Atari          </td> <td>10tacle Studios AG       </td> <td>0.00m    </td> <td>0       </td>\n",
       "        </tr>\n",
       "        <tr>\n",
       "            <td>DS_b   </td> <td>10TACLE Studios</td> <td>10tacle Studios AG       </td> <td>0.03m    </td> <td>0.03    </td>\n",
       "        </tr>\n",
       "        <tr>\n",
       "            <td>PC_b   </td> <td>Aspyr          </td> <td>1C Company               </td> <td>0.00m    </td> <td>0       </td>\n",
       "        </tr>\n",
       "        <tr>\n",
       "            <td>PC_b   </td> <td>Codemasters    </td> <td>1C Company               </td> <td>0.00m    </td> <td>0       </td>\n",
       "        </tr>\n",
       "        <tr>\n",
       "            <td>PC_b   </td> <td>Aspyr          </td> <td>1C Company / Avalon Style</td> <td>0.00m    </td> <td>0       </td>\n",
       "        </tr>\n",
       "        <tr>\n",
       "            <td>PC_b   </td> <td>Ubisoft        </td> <td>1C Maddox Games          </td> <td>0.01m    </td> <td>0.01    </td>\n",
       "        </tr>\n",
       "        <tr>\n",
       "            <td>PC_b   </td> <td>Ubisoft        </td> <td>1C: Maddox Games         </td> <td>0.05m    </td> <td>0.05    </td>\n",
       "        </tr>\n",
       "        <tr>\n",
       "            <td>PC_b   </td> <td>Ubisoft        </td> <td>1C: Maddox Games         </td> <td>0.04m    </td> <td>0.04    </td>\n",
       "        </tr>\n",
       "        <tr>\n",
       "            <td>PC_b   </td> <td>Ubisoft        </td> <td>1C: Maddox Games         </td> <td>0.02m    </td> <td>0.02    </td>\n",
       "        </tr>\n",
       "        <tr>\n",
       "            <td>PC_b   </td> <td>Ubisoft        </td> <td>1C: Maddox Games         </td> <td>0.00m    </td> <td>0       </td>\n",
       "        </tr>\n",
       "    </tbody>\n",
       "</table>\n",
       "<p>... (6417 rows omitted)</p>"
      ],
      "text/plain": [
       "Console | Publisher       | Developer                 | PAL Sales | PALSales\n",
       "Wii_b   | Atari           | 10tacle Studios AG        | 0.00m     | 0\n",
       "DS_b    | 10TACLE Studios | 10tacle Studios AG        | 0.03m     | 0.03\n",
       "PC_b    | Aspyr           | 1C Company                | 0.00m     | 0\n",
       "PC_b    | Codemasters     | 1C Company                | 0.00m     | 0\n",
       "PC_b    | Aspyr           | 1C Company / Avalon Style | 0.00m     | 0\n",
       "PC_b    | Ubisoft         | 1C Maddox Games           | 0.01m     | 0.01\n",
       "PC_b    | Ubisoft         | 1C: Maddox Games          | 0.05m     | 0.05\n",
       "PC_b    | Ubisoft         | 1C: Maddox Games          | 0.04m     | 0.04\n",
       "PC_b    | Ubisoft         | 1C: Maddox Games          | 0.02m     | 0.02\n",
       "PC_b    | Ubisoft         | 1C: Maddox Games          | 0.00m     | 0\n",
       "... (6417 rows omitted)"
      ]
     },
     "execution_count": 30,
     "metadata": {},
     "output_type": "execute_result"
    }
   ],
   "source": [
    "PAL_sales = PAL_sales.with_column('PALSales' , PAL_sales.apply(remove_unit, 'PAL Sales').astype(float))\n",
    "PAL_sales"
   ]
  },
  {
   "cell_type": "code",
   "execution_count": 31,
   "id": "fd624729-f8fa-49d7-b410-d586f6f8d74d",
   "metadata": {
    "tags": []
   },
   "outputs": [
    {
     "data": {
      "image/png": "[encoded data removed]",
      "text/plain": [
       "<Figure size 600x400 with 1 Axes>"
      ]
     },
     "metadata": {},
     "output_type": "display_data"
    }
   ],
   "source": [
    "PAL_sales.select('Developer','PALSales').group('Developer',sum).sort(1,descending = True).take(np.arange(5)).barh('Developer')"
   ]
  },
  {
   "cell_type": "code",
   "execution_count": null,
   "id": "0258f0d1-bf68-4124-98db-d87a2638ac8b",
   "metadata": {},
   "outputs": [],
   "source": []
  }
 ],
 "metadata": {
  "kernelspec": {
   "display_name": "Python 3 (ipykernel)",
   "language": "python",
   "name": "python3"
  },
  "language_info": {
   "codemirror_mode": {
    "name": "ipython",
    "version": 3
   },
   "file_extension": ".py",
   "mimetype": "text/x-python",
   "name": "python",
   "nbconvert_exporter": "python",
   "pygments_lexer": "ipython3",
   "version": "3.11.4"
  }
 },
 "nbformat": 4,
 "nbformat_minor": 5
}
